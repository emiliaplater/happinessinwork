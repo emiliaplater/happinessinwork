{
 "cells": [
  {
   "cell_type": "code",
   "execution_count": null,
   "metadata": {},
   "outputs": [],
   "source": [
    "import cv2\n",
    "import matplotlib.pyplot as plt\n",
    "import time\n",
    "# Modules\n",
    "from Modules.performance.binaryModule import binaryModule\n",
    "from Modules.algorithms.algorithmModule1 import algorithmModule1\n",
    "from Modules.algorithms.algorithmModule2 import algorithmModule2\n",
    "from Modules.calculating.calculateModule import calculateModule\n"
   ]
  },
  {
   "cell_type": "code",
   "execution_count": null,
   "metadata": {},
   "outputs": [],
   "source": [
    "class MainModule:\n",
    "    def __init__(self, flv_path, wait_key, marker='o', color='blue'):\n",
    "        self.flv_path = flv_path\n",
    "        self.wait_key = wait_key\n",
    "        self.marker = marker\n",
    "        self.color = color\n",
    "        \n",
    "        fig = plt.figure()\n",
    "        self.ax = fig.add_subplot(111, projection='3d')\n",
    "        self.ax.set_xlabel('X')\n",
    "        self.ax.set_ylabel('Y')\n",
    "        self.ax.set_zlabel('Time')\n",
    "\n",
    "    \n",
    "    def play(self):\n",
    "        capture = cv2.VideoCapture(self.flv_path)\n",
    "        \n",
    "        while True:\n",
    "            ret, frame = capture.read()\n",
    "            if ret is False:\n",
    "                break\n",
    "        \n",
    "            threshold_frame = binaryModule(frame)\n",
    "\n",
    "            left_eye_coords1, right_eye_coords1 = algorithmModule1(threshold_frame, frame)\n",
    "            left_eye_coords2, right_eye_coords2 = algorithmModule2(threshold_frame, frame)\n",
    "            \n",
    "            left_eye_average_X, left_eye_average_Y, right_eye_average_X, right_eye_average_Y = calculateModule(\n",
    "                left_eye_coords1, \n",
    "                right_eye_coords1, \n",
    "                left_eye_coords2, \n",
    "                right_eye_coords2\n",
    "            )\n",
    "\n",
    "            timestamp = time.time()\n",
    "\n",
    "            if left_eye_average_X is not None:\n",
    "                self.ax.scatter(left_eye_average_X, left_eye_average_Y, timestamp, marker=self.marker, color=self.color)\n",
    "            if right_eye_average_X is not None:\n",
    "                self.ax.scatter(right_eye_average_X, right_eye_average_Y, timestamp, marker=self.marker, color=self.color)\n",
    "\n",
    "            plt.pause(0.001)\n",
    "\n",
    "\n",
    "            height, width = frame.shape[:2]\n",
    "            half_width = width // 2\n",
    "            left_frame = frame[:, :half_width]\n",
    "            right_frame = frame[:, half_width:]\n",
    "\n",
    "            cv2.imshow('Both', frame)\n",
    "            cv2.imshow('Left', left_frame)\n",
    "            cv2.imshow('Right', right_frame)\n",
    "\n",
    "\n",
    "            key = cv2.waitKey(self.time_frame) & 0xFF\n",
    "            if key == ord('q'):\n",
    "                break\n",
    "\n",
    "\n",
    "        capture.release()\n",
    "        cv2.destroyAllWindows()"
   ]
  },
  {
   "cell_type": "code",
   "execution_count": null,
   "metadata": {},
   "outputs": [],
   "source": [
    "video_player = MainModule('./vids/vid1.flv', 1) # prodive a path\n",
    "video_player.play()"
   ]
  }
 ],
 "metadata": {
  "kernelspec": {
   "display_name": "Python 3 (ipykernel)",
   "language": "python",
   "name": "python3"
  },
  "orig_nbformat": 4
 },
 "nbformat": 4,
 "nbformat_minor": 2
}
